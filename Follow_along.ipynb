{
 "cells": [
  {
   "cell_type": "code",
   "execution_count": null,
   "id": "0613075a-ee08-46f6-9256-bee76a1592fb",
   "metadata": {},
   "outputs": [],
   "source": [
    "### Import the libraries and packages\n",
    "import numpy as np\n",
    "import pandas as pd\n",
    "import matplotlib.pyplot as plt\n",
    "%matplotlib inline\n",
    "import seaborn as sns"
   ]
  },
  {
   "cell_type": "code",
   "execution_count": null,
   "id": "da4d1a5c-4255-491e-9db2-8bd791d6e468",
   "metadata": {},
   "outputs": [],
   "source": [
    "import warnings\n",
    "warnings.filterwarnings(\"ignore\")"
   ]
  },
  {
   "cell_type": "code",
   "execution_count": null,
   "id": "e565ad33-6096-41dd-acb4-ee49771e0c6a",
   "metadata": {},
   "outputs": [],
   "source": [
    "### display all the rows and columns\n",
    "pd.set_option(\"display.max_rows\",None)\n",
    "pd.set_option(\"display.max_columns\",None)"
   ]
  },
  {
   "cell_type": "code",
   "execution_count": null,
   "id": "3d32c8bd-c0d1-4b78-aa41-ff9f10f9c3dc",
   "metadata": {},
   "outputs": [],
   "source": [
    "### Load the dataset\n",
    "df=pd.read_csv(\"auto-mpg.csv\")"
   ]
  },
  {
   "cell_type": "code",
   "execution_count": null,
   "id": "e5e8be6c-130d-4563-9274-5f6fc4e6f83f",
   "metadata": {},
   "outputs": [],
   "source": [
    "### Shape\n",
    "df.shape"
   ]
  },
  {
   "cell_type": "code",
   "execution_count": null,
   "id": "441719bb-1753-4b05-9bdd-461d1ad66963",
   "metadata": {},
   "outputs": [],
   "source": [
    "### datatypes\n",
    "df.dtypes"
   ]
  },
  {
   "cell_type": "code",
   "execution_count": null,
   "id": "4d459c84-9329-4d4e-a617-552a74ce0615",
   "metadata": {},
   "outputs": [],
   "source": [
    "### Missing values??\n",
    "df.isnull().sum()"
   ]
  },
  {
   "cell_type": "markdown",
   "id": "aa4c052d-a073-45f5-8c48-af847d214f06",
   "metadata": {},
   "source": [
    "There are no direct missing values"
   ]
  },
  {
   "cell_type": "code",
   "execution_count": null,
   "id": "cbf11fe2-0b39-4005-a0e7-54fcc9928f80",
   "metadata": {},
   "outputs": [],
   "source": [
    "df.head()"
   ]
  },
  {
   "cell_type": "code",
   "execution_count": null,
   "id": "a9ef8658-010c-438e-81b6-72d950d7c79a",
   "metadata": {},
   "outputs": [],
   "source": [
    "df[\"hp\"].value_counts()"
   ]
  },
  {
   "cell_type": "markdown",
   "id": "b69809b8-fae4-46aa-a86e-acde3bbfe58c",
   "metadata": {},
   "source": [
    "There are 6 ? in this dataset.\n",
    "We need to replace ? with median"
   ]
  },
  {
   "cell_type": "code",
   "execution_count": null,
   "id": "f7eceee3-f7e8-450b-ac03-5fd75108856f",
   "metadata": {},
   "outputs": [],
   "source": [
    "df[\"hp\"]=df[\"hp\"].replace(\"?\",np.nan)\n",
    "df[\"hp\"]=df[\"hp\"].astype(float)"
   ]
  },
  {
   "cell_type": "code",
   "execution_count": null,
   "id": "1a5560ed-4cb7-4d5c-b2b8-76706a9af3c4",
   "metadata": {},
   "outputs": [],
   "source": [
    "df.dtypes"
   ]
  },
  {
   "cell_type": "code",
   "execution_count": null,
   "id": "658c3f0d-9ff0-4929-9669-57b7f0faf72c",
   "metadata": {},
   "outputs": [],
   "source": [
    "df.describe()"
   ]
  },
  {
   "cell_type": "code",
   "execution_count": null,
   "id": "70f299fa-b0af-4e95-9e58-4b300c63929b",
   "metadata": {},
   "outputs": [],
   "source": [
    "df[\"hp\"]=df[\"hp\"].replace(np.nan,df[\"hp\"].median())"
   ]
  },
  {
   "cell_type": "code",
   "execution_count": null,
   "id": "f6891867-e934-4806-a1e9-5e84ada71c88",
   "metadata": {},
   "outputs": [],
   "source": [
    "df.describe()"
   ]
  },
  {
   "cell_type": "code",
   "execution_count": null,
   "id": "66a56158-b6e3-4e25-95ab-b36ea79d526b",
   "metadata": {},
   "outputs": [],
   "source": [
    "### Change origin into catgoric->\n",
    "df[\"origin\"]=df[\"origin\"].replace({1:\"america\",2:\"europe\",3:\"asia\"})"
   ]
  },
  {
   "cell_type": "code",
   "execution_count": null,
   "id": "da23a69f-3e74-423b-b2b2-561785b637b9",
   "metadata": {},
   "outputs": [],
   "source": [
    "df.sample(10)"
   ]
  },
  {
   "cell_type": "code",
   "execution_count": null,
   "id": "477d61c3-9db0-4cf0-a18f-05d3dab9df2b",
   "metadata": {},
   "outputs": [],
   "source": [
    "df.hist(figsize=(10,12))\n",
    "plt.show()"
   ]
  },
  {
   "cell_type": "code",
   "execution_count": null,
   "id": "1ebeabf5-7314-46ef-bbbc-bbaec37d083f",
   "metadata": {},
   "outputs": [],
   "source": [
    "df.skew(numeric_only=True)"
   ]
  },
  {
   "cell_type": "code",
   "execution_count": null,
   "id": "180c50eb-d597-4d36-a4e6-ee46892cdb0f",
   "metadata": {},
   "outputs": [],
   "source": [
    "sns.boxplot(x=\"mpg\",data=df)"
   ]
  },
  {
   "cell_type": "code",
   "execution_count": null,
   "id": "6661d5d3-1570-419e-a79f-0c258a0cfdd2",
   "metadata": {},
   "outputs": [],
   "source": [
    "sns.boxplot(x=\"cyl\",data=df)"
   ]
  },
  {
   "cell_type": "code",
   "execution_count": null,
   "id": "c03cf5f5-f6fc-4a94-bc98-051ad23cda0d",
   "metadata": {},
   "outputs": [],
   "source": [
    "import plotly.express as px\n",
    "for column in df:\n",
    "    fig=px.histogram(df,x=column,nbins=20)\n",
    "    fig.show()"
   ]
  },
  {
   "cell_type": "code",
   "execution_count": null,
   "id": "9c29003f-08b2-4e31-baf4-68049b56749a",
   "metadata": {},
   "outputs": [],
   "source": [
    "for column in df:\n",
    "    fig=px.box(df,x=column)\n",
    "    fig.show()"
   ]
  },
  {
   "cell_type": "code",
   "execution_count": null,
   "id": "ac9056e5-0e86-4283-9593-7fe00a921423",
   "metadata": {},
   "outputs": [],
   "source": [
    "sns.pairplot(df)"
   ]
  },
  {
   "cell_type": "code",
   "execution_count": null,
   "id": "bdfc8d91-722c-449b-9a9c-4818e1fd08c6",
   "metadata": {},
   "outputs": [],
   "source": [
    "plt.scatter(df[\"hp\"],df[\"mpg\"])"
   ]
  },
  {
   "cell_type": "code",
   "execution_count": null,
   "id": "92a35a15-b27d-45f6-8bbe-567fb4ab3ceb",
   "metadata": {},
   "outputs": [],
   "source": [
    "sns.countplot(x=\"origin\",data=df)"
   ]
  },
  {
   "cell_type": "code",
   "execution_count": null,
   "id": "615e46f7-f84c-47a4-9b39-d7c3acfb409b",
   "metadata": {},
   "outputs": [],
   "source": [
    "sns.violinplot(x=\"origin\",y=\"mpg\",data=df)"
   ]
  },
  {
   "cell_type": "code",
   "execution_count": null,
   "id": "25a26fc1-86aa-490f-b00f-672c71b7923d",
   "metadata": {},
   "outputs": [],
   "source": [
    "sns.barplot(x=\"cyl\",y=\"mpg\",data=df)"
   ]
  },
  {
   "cell_type": "code",
   "execution_count": null,
   "id": "f1f1f168-feba-4f0c-a328-663bd02b0148",
   "metadata": {},
   "outputs": [],
   "source": [
    "sns.lineplot(x=\"yr\",y=\"mpg\",data=df)"
   ]
  },
  {
   "cell_type": "code",
   "execution_count": null,
   "id": "ade34b20-843b-4262-83f4-5ea52e79a3dd",
   "metadata": {},
   "outputs": [],
   "source": [
    "sns.jointplot(x=\"wt\",y=\"mpg\",data=df)"
   ]
  },
  {
   "cell_type": "code",
   "execution_count": null,
   "id": "4c83a79a-c7ec-44e9-bb32-e1d2050f0f93",
   "metadata": {},
   "outputs": [],
   "source": [
    "corr_matrix=df.corr(numeric_only=True)\n",
    "corr_matrix"
   ]
  },
  {
   "cell_type": "code",
   "execution_count": null,
   "id": "de1e468f-424e-49eb-bbff-a371a251fb80",
   "metadata": {},
   "outputs": [],
   "source": [
    "sns.heatmap(corr_matrix,annot=True,cmap=\"coolwarm\")"
   ]
  },
  {
   "cell_type": "code",
   "execution_count": null,
   "id": "37ff4d11-e50a-4d30-9dc0-94d3777d33ce",
   "metadata": {},
   "outputs": [],
   "source": [
    "sns.kdeplot(x=\"wt\", y=\"mpg\", data=df)"
   ]
  },
  {
   "cell_type": "code",
   "execution_count": null,
   "id": "5c985483-2d8c-491f-ad3c-d9cd3e9fab0d",
   "metadata": {},
   "outputs": [],
   "source": [
    "sns.boxenplot(x=\"origin\", y=\"mpg\", data=df)"
   ]
  },
  {
   "cell_type": "code",
   "execution_count": null,
   "id": "bd6a4535-5acb-41cf-b189-aa6be5ca5f4b",
   "metadata": {},
   "outputs": [],
   "source": [
    "g = sns.FacetGrid(col='origin', row='yr',data=df)\n",
    "g.map(sns.scatterplot, 'cyl', 'acc')\n",
    "g.fig.subplots_adjust(top=0.9)\n",
    "g.fig.suptitle('FacetGrid Plot')\n",
    "plt.show()"
   ]
  },
  {
   "cell_type": "code",
   "execution_count": null,
   "id": "737f9525-68b1-4a71-998a-151bce852a7b",
   "metadata": {},
   "outputs": [],
   "source": [
    "sns.pairplot(data=df, hue=\"mpg\", diag_kind=\"kde\", palette=\"husl\")"
   ]
  },
  {
   "cell_type": "code",
   "execution_count": null,
   "id": "8e52d369-d2bc-456b-a584-cef463f73dc9",
   "metadata": {},
   "outputs": [],
   "source": []
  },
  {
   "cell_type": "code",
   "execution_count": null,
   "id": "5aeb7da2-7bc0-40aa-8738-a1f23b7aa10f",
   "metadata": {},
   "outputs": [],
   "source": []
  },
  {
   "cell_type": "code",
   "execution_count": null,
   "id": "f52af9c1-ea46-4e03-ab88-f751baf2f66a",
   "metadata": {},
   "outputs": [],
   "source": []
  },
  {
   "cell_type": "code",
   "execution_count": null,
   "id": "967ec2aa-688c-4b03-b520-4ce9ff122511",
   "metadata": {},
   "outputs": [],
   "source": []
  }
 ],
 "metadata": {
  "kernelspec": {
   "display_name": "Python 3 (ipykernel)",
   "language": "python",
   "name": "python3"
  },
  "language_info": {
   "codemirror_mode": {
    "name": "ipython",
    "version": 3
   },
   "file_extension": ".py",
   "mimetype": "text/x-python",
   "name": "python",
   "nbconvert_exporter": "python",
   "pygments_lexer": "ipython3",
   "version": "3.11.7"
  },
  "widgets": {
   "application/vnd.jupyter.widget-state+json": {
    "state": {},
    "version_major": 2,
    "version_minor": 0
   }
  }
 },
 "nbformat": 4,
 "nbformat_minor": 5
}
